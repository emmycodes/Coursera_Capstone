{
    "nbformat_minor": 1, 
    "cells": [
        {
            "source": "# Growth of Neighborhoods in New York City", 
            "cell_type": "markdown", 
            "metadata": {
                "collapsed": true
            }
        }, 
        {
            "source": "### Introduction", 
            "cell_type": "markdown", 
            "metadata": {}
        }, 
        {
            "source": "As more people are moving to NYC and rents are rising, I want to see how the types of businesses are being impacted in neighborhoods that have shown significant growth in the past 5 years (also known as gentrified areas).  The audience or stakeholers for this analysis are potential apartment seekers and business owners that are looking to rent.   ", 
            "cell_type": "markdown", 
            "metadata": {}
        }, 
        {
            "source": "### Data", 
            "cell_type": "markdown", 
            "metadata": {}
        }, 
        {
            "source": "For his idea, I am using Foursquare data to identify types of businesses in neighborhoods in combination with open source NYC data to gather rent and neighborhood data to find trends of high-growth neighborhoods.  The open source NYC data identifies the neighborhoods of focus along with bringing information like rent prices and median household salaries while Foursquare data will show business and vendor information from 5 years ago to now. ", 
            "cell_type": "markdown", 
            "metadata": {}
        }, 
        {
            "execution_count": null, 
            "cell_type": "code", 
            "metadata": {}, 
            "outputs": [], 
            "source": ""
        }
    ], 
    "metadata": {
        "kernelspec": {
            "display_name": "Python 3.5", 
            "name": "python3", 
            "language": "python"
        }, 
        "language_info": {
            "mimetype": "text/x-python", 
            "nbconvert_exporter": "python", 
            "version": "3.5.5", 
            "name": "python", 
            "file_extension": ".py", 
            "pygments_lexer": "ipython3", 
            "codemirror_mode": {
                "version": 3, 
                "name": "ipython"
            }
        }
    }, 
    "nbformat": 4
}