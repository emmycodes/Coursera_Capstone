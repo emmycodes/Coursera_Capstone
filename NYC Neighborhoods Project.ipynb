{
    "nbformat_minor": 1, 
    "cells": [
        {
            "source": "# The Changes of Businesses in High Growth NYC Neighborhoods", 
            "cell_type": "markdown", 
            "metadata": {
                "collapsed": true
            }
        }, 
        {
            "source": "### Introduction", 
            "cell_type": "markdown", 
            "metadata": {}
        }, 
        {
            "source": "As the economy grows and more companies and people moving to NYC, neighborhoods are changing fast affecting and businesses.  This analysis will take the top gentrifying neighborhoods and compare businesses in these neighborhoods over time from 2010 to 2019.  The compare will show patterns of these types of venues in these neighborhoods.  The stakeholders interested in this type of data are parties in business development: city employees and investors looking to open a business or base an office\n\n<b> Program Statement: </b> What type of venue is an early signs indicator to predict gentrified economic growth in a neighborhood?\n", 
            "cell_type": "markdown", 
            "metadata": {}
        }, 
        {
            "source": "### Data", 
            "cell_type": "markdown", 
            "metadata": {}
        }, 
        {
            "source": "(1) Foursquare API \nFoursquare data will be used to identify types of businesses in neighborhoods and yearly aggregate check-ins over time for these venues.  With the historic data, snapshots of every year can be takes and show the rise and fall of certain types of businesses.  \n\n(2) NYC Government: 'NYC Neighborhood Economic Profiles 2018' Reports (https://comptroller.nyc.gov/reports/nyc-neighborhood-economic-profiles/) and NYC Open Data (https://opendata.cityofnewyork.us/) \n\nThe report and data source defines that top growth / gentrified neighborhoods in NYC along with relevant time comparison data of demographic and economic measures.  Once the neighborhoods are selected, the main source will be using FourSquare data to see how to predict an up and coming neighborhood in NYC.  \n\n", 
            "cell_type": "markdown", 
            "metadata": {}
        }, 
        {
            "source": "### Methodology", 
            "cell_type": "markdown", 
            "metadata": {}
        }, 
        {
            "source": "### Results ", 
            "cell_type": "markdown", 
            "metadata": {}
        }, 
        {
            "source": "### Discussion", 
            "cell_type": "markdown", 
            "metadata": {}
        }, 
        {
            "source": "### Conclusion", 
            "cell_type": "markdown", 
            "metadata": {}
        }, 
        {
            "execution_count": null, 
            "cell_type": "code", 
            "metadata": {}, 
            "outputs": [], 
            "source": ""
        }
    ], 
    "metadata": {
        "kernelspec": {
            "display_name": "Python 3.5", 
            "name": "python3", 
            "language": "python"
        }, 
        "language_info": {
            "mimetype": "text/x-python", 
            "nbconvert_exporter": "python", 
            "version": "3.5.5", 
            "name": "python", 
            "file_extension": ".py", 
            "pygments_lexer": "ipython3", 
            "codemirror_mode": {
                "version": 3, 
                "name": "ipython"
            }
        }
    }, 
    "nbformat": 4
}