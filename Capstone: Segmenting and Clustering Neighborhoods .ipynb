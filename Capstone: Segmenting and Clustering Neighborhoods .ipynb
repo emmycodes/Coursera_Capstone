{
    "nbformat_minor": 1, 
    "cells": [
        {
            "source": "# Segmenting and Clustering Neighborhoods in Toronto", 
            "cell_type": "markdown", 
            "metadata": {}
        }, 
        {
            "source": "### Import Libraries", 
            "cell_type": "markdown", 
            "metadata": {}
        }, 
        {
            "source": "import numpy as np\nimport pandas as pd\nfrom bs4 import BeautifulSoup as bs4\nimport lxml\nimport requests\nprint('Libraries imported.')", 
            "cell_type": "code", 
            "metadata": {}, 
            "outputs": [
                {
                    "output_type": "stream", 
                    "name": "stdout", 
                    "text": "Libraries imported.\n"
                }
            ], 
            "execution_count": 1
        }, 
        {
            "source": "### Import Wikipedia Article (Part 2)", 
            "cell_type": "markdown", 
            "metadata": {}
        }, 
        {
            "source": "source = requests.get('https://en.wikipedia.org/wiki/List_of_postal_codes_of_Canada:_M').text\nsoup = bs4(source, 'lxml')", 
            "cell_type": "code", 
            "metadata": {}, 
            "outputs": [], 
            "execution_count": 2
        }, 
        {
            "source": "### Define the header columns (Part 3, Bullet 1)", 
            "cell_type": "markdown", 
            "metadata": {}
        }, 
        {
            "source": "header = ['PostalCode', 'Borough', 'Neighborhood']\n#If pulling from wikipedia article then:\n#header = soup.tr.text\n#header = header.split()\nheader", 
            "cell_type": "code", 
            "metadata": {}, 
            "outputs": [
                {
                    "output_type": "execute_result", 
                    "data": {
                        "text/plain": "['PostalCode', 'Borough', 'Neighborhood']"
                    }, 
                    "execution_count": 3, 
                    "metadata": {}
                }
            ], 
            "execution_count": 3
        }, 
        {
            "source": "### Pull the records from the table in Wikipedia (Part 2)", 
            "cell_type": "markdown", 
            "metadata": {}
        }, 
        {
            "source": "l_records = []\ntable_rows = soup.find_all('tr')\nfor tr in table_rows:\n    td = tr.find_all('td')\n    row = [tr.text for tr in td]\n    l_records.append(row)\nprint(\"First 3 rows: \")\nprint(l_records[:3])\nprint(\"Last 3 rows: \")\nprint(l_records[-3:])", 
            "cell_type": "code", 
            "metadata": {}, 
            "outputs": [
                {
                    "output_type": "stream", 
                    "name": "stdout", 
                    "text": "First 3 rows: \n[[], ['M1A', 'Not assigned', 'Not assigned\\n'], ['M2A', 'Not assigned', 'Not assigned\\n']]\nLast 3 rows: \n[['\\n\\n\\nNL\\n\\nNS\\n\\nPE\\n\\nNB\\n\\nQC\\n\\nON\\n\\nMB\\n\\nSK\\n\\nAB\\n\\nBC\\n\\nNU/NT\\n\\nYT\\n\\n\\nA\\n\\nB\\n\\nC\\n\\nE\\n\\nG\\n\\nH\\n\\nJ\\n\\nK\\n\\nL\\n\\nM\\n\\nN\\n\\nP\\n\\nR\\n\\nS\\n\\nT\\n\\nV\\n\\nX\\n\\nY\\n\\n', 'NL\\n', 'NS\\n', 'PE\\n', 'NB\\n', 'QC\\n', 'ON\\n', 'MB\\n', 'SK\\n', 'AB\\n', 'BC\\n', 'NU/NT\\n', 'YT\\n', 'A\\n', 'B\\n', 'C\\n', 'E\\n', 'G\\n', 'H\\n', 'J\\n', 'K\\n', 'L\\n', 'M\\n', 'N\\n', 'P\\n', 'R\\n', 'S\\n', 'T\\n', 'V\\n', 'X\\n', 'Y\\n'], ['NL\\n', 'NS\\n', 'PE\\n', 'NB\\n', 'QC\\n', 'ON\\n', 'MB\\n', 'SK\\n', 'AB\\n', 'BC\\n', 'NU/NT\\n', 'YT\\n'], ['A\\n', 'B\\n', 'C\\n', 'E\\n', 'G\\n', 'H\\n', 'J\\n', 'K\\n', 'L\\n', 'M\\n', 'N\\n', 'P\\n', 'R\\n', 'S\\n', 'T\\n', 'V\\n', 'X\\n', 'Y\\n']]\n"
                }
            ], 
            "execution_count": 4
        }, 
        {
            "source": "<b>Remove unnecessary records pulled above.</b>", 
            "cell_type": "markdown", 
            "metadata": {}
        }, 
        {
            "source": "l_list = l_records[1:-5]\nl_list[:5]", 
            "cell_type": "code", 
            "metadata": {}, 
            "outputs": [
                {
                    "output_type": "execute_result", 
                    "data": {
                        "text/plain": "[['M1A', 'Not assigned', 'Not assigned\\n'],\n ['M2A', 'Not assigned', 'Not assigned\\n'],\n ['M3A', 'North York', 'Parkwoods\\n'],\n ['M4A', 'North York', 'Victoria Village\\n'],\n ['M5A', 'Downtown Toronto', 'Harbourfront\\n']]"
                    }, 
                    "execution_count": 5, 
                    "metadata": {}
                }
            ], 
            "execution_count": 5
        }, 
        {
            "source": "### Create DataFrame from Data (Part 3 Start)", 
            "cell_type": "markdown", 
            "metadata": {}
        }, 
        {
            "source": "df_list = pd.DataFrame(l_list, columns = header)\ndf_list.head()", 
            "cell_type": "code", 
            "metadata": {}, 
            "outputs": [
                {
                    "output_type": "execute_result", 
                    "data": {
                        "text/plain": "  PostalCode           Borough        Neighborhood\n0        M1A      Not assigned      Not assigned\\n\n1        M2A      Not assigned      Not assigned\\n\n2        M3A        North York         Parkwoods\\n\n3        M4A        North York  Victoria Village\\n\n4        M5A  Downtown Toronto      Harbourfront\\n", 
                        "text/html": "<div>\n<style scoped>\n    .dataframe tbody tr th:only-of-type {\n        vertical-align: middle;\n    }\n\n    .dataframe tbody tr th {\n        vertical-align: top;\n    }\n\n    .dataframe thead th {\n        text-align: right;\n    }\n</style>\n<table border=\"1\" class=\"dataframe\">\n  <thead>\n    <tr style=\"text-align: right;\">\n      <th></th>\n      <th>PostalCode</th>\n      <th>Borough</th>\n      <th>Neighborhood</th>\n    </tr>\n  </thead>\n  <tbody>\n    <tr>\n      <th>0</th>\n      <td>M1A</td>\n      <td>Not assigned</td>\n      <td>Not assigned\\n</td>\n    </tr>\n    <tr>\n      <th>1</th>\n      <td>M2A</td>\n      <td>Not assigned</td>\n      <td>Not assigned\\n</td>\n    </tr>\n    <tr>\n      <th>2</th>\n      <td>M3A</td>\n      <td>North York</td>\n      <td>Parkwoods\\n</td>\n    </tr>\n    <tr>\n      <th>3</th>\n      <td>M4A</td>\n      <td>North York</td>\n      <td>Victoria Village\\n</td>\n    </tr>\n    <tr>\n      <th>4</th>\n      <td>M5A</td>\n      <td>Downtown Toronto</td>\n      <td>Harbourfront\\n</td>\n    </tr>\n  </tbody>\n</table>\n</div>"
                    }, 
                    "execution_count": 6, 
                    "metadata": {}
                }
            ], 
            "execution_count": 6
        }, 
        {
            "source": "df_list['Neighborhood'] = df_list['Neighborhood'].map(lambda x: str(x)[:-1])\nprint(\"DataFrame has \", len(df_list), \"records\")\ndf_list.head()", 
            "cell_type": "code", 
            "metadata": {}, 
            "outputs": [
                {
                    "output_type": "stream", 
                    "name": "stdout", 
                    "text": "DataFrame has  289 records\n"
                }, 
                {
                    "output_type": "execute_result", 
                    "data": {
                        "text/plain": "  PostalCode           Borough      Neighborhood\n0        M1A      Not assigned      Not assigned\n1        M2A      Not assigned      Not assigned\n2        M3A        North York         Parkwoods\n3        M4A        North York  Victoria Village\n4        M5A  Downtown Toronto      Harbourfront", 
                        "text/html": "<div>\n<style scoped>\n    .dataframe tbody tr th:only-of-type {\n        vertical-align: middle;\n    }\n\n    .dataframe tbody tr th {\n        vertical-align: top;\n    }\n\n    .dataframe thead th {\n        text-align: right;\n    }\n</style>\n<table border=\"1\" class=\"dataframe\">\n  <thead>\n    <tr style=\"text-align: right;\">\n      <th></th>\n      <th>PostalCode</th>\n      <th>Borough</th>\n      <th>Neighborhood</th>\n    </tr>\n  </thead>\n  <tbody>\n    <tr>\n      <th>0</th>\n      <td>M1A</td>\n      <td>Not assigned</td>\n      <td>Not assigned</td>\n    </tr>\n    <tr>\n      <th>1</th>\n      <td>M2A</td>\n      <td>Not assigned</td>\n      <td>Not assigned</td>\n    </tr>\n    <tr>\n      <th>2</th>\n      <td>M3A</td>\n      <td>North York</td>\n      <td>Parkwoods</td>\n    </tr>\n    <tr>\n      <th>3</th>\n      <td>M4A</td>\n      <td>North York</td>\n      <td>Victoria Village</td>\n    </tr>\n    <tr>\n      <th>4</th>\n      <td>M5A</td>\n      <td>Downtown Toronto</td>\n      <td>Harbourfront</td>\n    </tr>\n  </tbody>\n</table>\n</div>"
                    }, 
                    "execution_count": 7, 
                    "metadata": {}
                }
            ], 
            "execution_count": 7
        }, 
        {
            "source": "### Remove Records with 'Not Assigned' as Borough (Part 3, Bullet 2)", 
            "cell_type": "markdown", 
            "metadata": {}
        }, 
        {
            "source": "df_wB = df_list[df_list.Borough != 'Not assigned']\n#wB = with Borough\nprint(\"DataFrame has \", len(df_wB), \" records\")\ndf_wB.head()", 
            "cell_type": "code", 
            "metadata": {}, 
            "outputs": [
                {
                    "output_type": "stream", 
                    "name": "stdout", 
                    "text": "DataFrame has  212  records\n"
                }, 
                {
                    "output_type": "execute_result", 
                    "data": {
                        "text/plain": "  PostalCode           Borough      Neighborhood\n2        M3A        North York         Parkwoods\n3        M4A        North York  Victoria Village\n4        M5A  Downtown Toronto      Harbourfront\n5        M5A  Downtown Toronto       Regent Park\n6        M6A        North York  Lawrence Heights", 
                        "text/html": "<div>\n<style scoped>\n    .dataframe tbody tr th:only-of-type {\n        vertical-align: middle;\n    }\n\n    .dataframe tbody tr th {\n        vertical-align: top;\n    }\n\n    .dataframe thead th {\n        text-align: right;\n    }\n</style>\n<table border=\"1\" class=\"dataframe\">\n  <thead>\n    <tr style=\"text-align: right;\">\n      <th></th>\n      <th>PostalCode</th>\n      <th>Borough</th>\n      <th>Neighborhood</th>\n    </tr>\n  </thead>\n  <tbody>\n    <tr>\n      <th>2</th>\n      <td>M3A</td>\n      <td>North York</td>\n      <td>Parkwoods</td>\n    </tr>\n    <tr>\n      <th>3</th>\n      <td>M4A</td>\n      <td>North York</td>\n      <td>Victoria Village</td>\n    </tr>\n    <tr>\n      <th>4</th>\n      <td>M5A</td>\n      <td>Downtown Toronto</td>\n      <td>Harbourfront</td>\n    </tr>\n    <tr>\n      <th>5</th>\n      <td>M5A</td>\n      <td>Downtown Toronto</td>\n      <td>Regent Park</td>\n    </tr>\n    <tr>\n      <th>6</th>\n      <td>M6A</td>\n      <td>North York</td>\n      <td>Lawrence Heights</td>\n    </tr>\n  </tbody>\n</table>\n</div>"
                    }, 
                    "execution_count": 8, 
                    "metadata": {}
                }
            ], 
            "execution_count": 8
        }, 
        {
            "source": "### Combine Neighborhoods to Postal Code (Part 3, Bullet 3)", 
            "cell_type": "markdown", 
            "metadata": {}
        }, 
        {
            "source": "df_pc = df_wB\ndf_pc2 = df_pc", 
            "cell_type": "code", 
            "metadata": {}, 
            "outputs": [], 
            "execution_count": 9
        }, 
        {
            "source": "<B>Grouping Neighborhoods by Postal Code</b>", 
            "cell_type": "markdown", 
            "metadata": {}
        }, 
        {
            "source": "df_pc3 = df_pc2.groupby('PostalCode')['Neighborhood'].apply(lambda tags: ', '.join(tags))\ndf_pc3.head()", 
            "cell_type": "code", 
            "metadata": {}, 
            "outputs": [
                {
                    "output_type": "execute_result", 
                    "data": {
                        "text/plain": "PostalCode\nM1B                            Rouge, Malvern\nM1C    Highland Creek, Rouge Hill, Port Union\nM1E         Guildwood, Morningside, West Hill\nM1G                                    Woburn\nM1H                                 Cedarbrae\nName: Neighborhood, dtype: object"
                    }, 
                    "execution_count": 10, 
                    "metadata": {}
                }
            ], 
            "execution_count": 10
        }, 
        {
            "source": "<B> Making the series back into a dataframe </b>", 
            "cell_type": "markdown", 
            "metadata": {}
        }, 
        {
            "source": "df_n = pd.DataFrame({'PostalCode':df_pc3.index, 'Neighborhood':df_pc3.values})\ndf_n.head()", 
            "cell_type": "code", 
            "metadata": {
                "scrolled": false
            }, 
            "outputs": [
                {
                    "output_type": "execute_result", 
                    "data": {
                        "text/plain": "                             Neighborhood PostalCode\n0                          Rouge, Malvern        M1B\n1  Highland Creek, Rouge Hill, Port Union        M1C\n2       Guildwood, Morningside, West Hill        M1E\n3                                  Woburn        M1G\n4                               Cedarbrae        M1H", 
                        "text/html": "<div>\n<style scoped>\n    .dataframe tbody tr th:only-of-type {\n        vertical-align: middle;\n    }\n\n    .dataframe tbody tr th {\n        vertical-align: top;\n    }\n\n    .dataframe thead th {\n        text-align: right;\n    }\n</style>\n<table border=\"1\" class=\"dataframe\">\n  <thead>\n    <tr style=\"text-align: right;\">\n      <th></th>\n      <th>Neighborhood</th>\n      <th>PostalCode</th>\n    </tr>\n  </thead>\n  <tbody>\n    <tr>\n      <th>0</th>\n      <td>Rouge, Malvern</td>\n      <td>M1B</td>\n    </tr>\n    <tr>\n      <th>1</th>\n      <td>Highland Creek, Rouge Hill, Port Union</td>\n      <td>M1C</td>\n    </tr>\n    <tr>\n      <th>2</th>\n      <td>Guildwood, Morningside, West Hill</td>\n      <td>M1E</td>\n    </tr>\n    <tr>\n      <th>3</th>\n      <td>Woburn</td>\n      <td>M1G</td>\n    </tr>\n    <tr>\n      <th>4</th>\n      <td>Cedarbrae</td>\n      <td>M1H</td>\n    </tr>\n  </tbody>\n</table>\n</div>"
                    }, 
                    "execution_count": 11, 
                    "metadata": {}
                }
            ], 
            "execution_count": 11
        }, 
        {
            "source": "<b> Combining the two dataframes with the new Neighborhood format </b>", 
            "cell_type": "markdown", 
            "metadata": {}
        }, 
        {
            "source": "df_combined = pd.DataFrame(df_pc,columns=['PostalCode', 'Borough'])\ndf_combined.head()", 
            "cell_type": "code", 
            "metadata": {}, 
            "outputs": [
                {
                    "output_type": "execute_result", 
                    "data": {
                        "text/plain": "  PostalCode           Borough\n2        M3A        North York\n3        M4A        North York\n4        M5A  Downtown Toronto\n5        M5A  Downtown Toronto\n6        M6A        North York", 
                        "text/html": "<div>\n<style scoped>\n    .dataframe tbody tr th:only-of-type {\n        vertical-align: middle;\n    }\n\n    .dataframe tbody tr th {\n        vertical-align: top;\n    }\n\n    .dataframe thead th {\n        text-align: right;\n    }\n</style>\n<table border=\"1\" class=\"dataframe\">\n  <thead>\n    <tr style=\"text-align: right;\">\n      <th></th>\n      <th>PostalCode</th>\n      <th>Borough</th>\n    </tr>\n  </thead>\n  <tbody>\n    <tr>\n      <th>2</th>\n      <td>M3A</td>\n      <td>North York</td>\n    </tr>\n    <tr>\n      <th>3</th>\n      <td>M4A</td>\n      <td>North York</td>\n    </tr>\n    <tr>\n      <th>4</th>\n      <td>M5A</td>\n      <td>Downtown Toronto</td>\n    </tr>\n    <tr>\n      <th>5</th>\n      <td>M5A</td>\n      <td>Downtown Toronto</td>\n    </tr>\n    <tr>\n      <th>6</th>\n      <td>M6A</td>\n      <td>North York</td>\n    </tr>\n  </tbody>\n</table>\n</div>"
                    }, 
                    "execution_count": 12, 
                    "metadata": {}
                }
            ], 
            "execution_count": 12
        }, 
        {
            "source": "df_combined = df_combined.drop_duplicates()\ndf_combined.head()", 
            "cell_type": "code", 
            "metadata": {}, 
            "outputs": [
                {
                    "output_type": "execute_result", 
                    "data": {
                        "text/plain": "  PostalCode           Borough\n2        M3A        North York\n3        M4A        North York\n4        M5A  Downtown Toronto\n6        M6A        North York\n8        M7A      Queen's Park", 
                        "text/html": "<div>\n<style scoped>\n    .dataframe tbody tr th:only-of-type {\n        vertical-align: middle;\n    }\n\n    .dataframe tbody tr th {\n        vertical-align: top;\n    }\n\n    .dataframe thead th {\n        text-align: right;\n    }\n</style>\n<table border=\"1\" class=\"dataframe\">\n  <thead>\n    <tr style=\"text-align: right;\">\n      <th></th>\n      <th>PostalCode</th>\n      <th>Borough</th>\n    </tr>\n  </thead>\n  <tbody>\n    <tr>\n      <th>2</th>\n      <td>M3A</td>\n      <td>North York</td>\n    </tr>\n    <tr>\n      <th>3</th>\n      <td>M4A</td>\n      <td>North York</td>\n    </tr>\n    <tr>\n      <th>4</th>\n      <td>M5A</td>\n      <td>Downtown Toronto</td>\n    </tr>\n    <tr>\n      <th>6</th>\n      <td>M6A</td>\n      <td>North York</td>\n    </tr>\n    <tr>\n      <th>8</th>\n      <td>M7A</td>\n      <td>Queen's Park</td>\n    </tr>\n  </tbody>\n</table>\n</div>"
                    }, 
                    "execution_count": 13, 
                    "metadata": {}
                }
            ], 
            "execution_count": 13
        }, 
        {
            "source": "df_n.head()", 
            "cell_type": "code", 
            "metadata": {}, 
            "outputs": [
                {
                    "output_type": "execute_result", 
                    "data": {
                        "text/plain": "                             Neighborhood PostalCode\n0                          Rouge, Malvern        M1B\n1  Highland Creek, Rouge Hill, Port Union        M1C\n2       Guildwood, Morningside, West Hill        M1E\n3                                  Woburn        M1G\n4                               Cedarbrae        M1H", 
                        "text/html": "<div>\n<style scoped>\n    .dataframe tbody tr th:only-of-type {\n        vertical-align: middle;\n    }\n\n    .dataframe tbody tr th {\n        vertical-align: top;\n    }\n\n    .dataframe thead th {\n        text-align: right;\n    }\n</style>\n<table border=\"1\" class=\"dataframe\">\n  <thead>\n    <tr style=\"text-align: right;\">\n      <th></th>\n      <th>Neighborhood</th>\n      <th>PostalCode</th>\n    </tr>\n  </thead>\n  <tbody>\n    <tr>\n      <th>0</th>\n      <td>Rouge, Malvern</td>\n      <td>M1B</td>\n    </tr>\n    <tr>\n      <th>1</th>\n      <td>Highland Creek, Rouge Hill, Port Union</td>\n      <td>M1C</td>\n    </tr>\n    <tr>\n      <th>2</th>\n      <td>Guildwood, Morningside, West Hill</td>\n      <td>M1E</td>\n    </tr>\n    <tr>\n      <th>3</th>\n      <td>Woburn</td>\n      <td>M1G</td>\n    </tr>\n    <tr>\n      <th>4</th>\n      <td>Cedarbrae</td>\n      <td>M1H</td>\n    </tr>\n  </tbody>\n</table>\n</div>"
                    }, 
                    "execution_count": 14, 
                    "metadata": {}
                }
            ], 
            "execution_count": 14
        }, 
        {
            "source": "df = pd.merge(df_combined, df_n, on='PostalCode')", 
            "cell_type": "code", 
            "metadata": {}, 
            "outputs": [], 
            "execution_count": 15
        }, 
        {
            "source": "print(\"DataFrame has \", len(df), \" records\")\ndf.head()", 
            "cell_type": "code", 
            "metadata": {}, 
            "outputs": [
                {
                    "output_type": "stream", 
                    "name": "stdout", 
                    "text": "DataFrame has  103  records\n"
                }, 
                {
                    "output_type": "execute_result", 
                    "data": {
                        "text/plain": "  PostalCode           Borough                      Neighborhood\n0        M3A        North York                         Parkwoods\n1        M4A        North York                  Victoria Village\n2        M5A  Downtown Toronto         Harbourfront, Regent Park\n3        M6A        North York  Lawrence Heights, Lawrence Manor\n4        M7A      Queen's Park                      Not assigned", 
                        "text/html": "<div>\n<style scoped>\n    .dataframe tbody tr th:only-of-type {\n        vertical-align: middle;\n    }\n\n    .dataframe tbody tr th {\n        vertical-align: top;\n    }\n\n    .dataframe thead th {\n        text-align: right;\n    }\n</style>\n<table border=\"1\" class=\"dataframe\">\n  <thead>\n    <tr style=\"text-align: right;\">\n      <th></th>\n      <th>PostalCode</th>\n      <th>Borough</th>\n      <th>Neighborhood</th>\n    </tr>\n  </thead>\n  <tbody>\n    <tr>\n      <th>0</th>\n      <td>M3A</td>\n      <td>North York</td>\n      <td>Parkwoods</td>\n    </tr>\n    <tr>\n      <th>1</th>\n      <td>M4A</td>\n      <td>North York</td>\n      <td>Victoria Village</td>\n    </tr>\n    <tr>\n      <th>2</th>\n      <td>M5A</td>\n      <td>Downtown Toronto</td>\n      <td>Harbourfront, Regent Park</td>\n    </tr>\n    <tr>\n      <th>3</th>\n      <td>M6A</td>\n      <td>North York</td>\n      <td>Lawrence Heights, Lawrence Manor</td>\n    </tr>\n    <tr>\n      <th>4</th>\n      <td>M7A</td>\n      <td>Queen's Park</td>\n      <td>Not assigned</td>\n    </tr>\n  </tbody>\n</table>\n</div>"
                    }, 
                    "execution_count": 17, 
                    "metadata": {}
                }
            ], 
            "execution_count": 17
        }, 
        {
            "source": "df.shape", 
            "cell_type": "code", 
            "metadata": {}, 
            "outputs": [
                {
                    "output_type": "execute_result", 
                    "data": {
                        "text/plain": "(103, 3)"
                    }, 
                    "execution_count": 18, 
                    "metadata": {}
                }
            ], 
            "execution_count": 18
        }
    ], 
    "metadata": {
        "kernelspec": {
            "display_name": "Python 3.5", 
            "name": "python3", 
            "language": "python"
        }, 
        "language_info": {
            "mimetype": "text/x-python", 
            "nbconvert_exporter": "python", 
            "version": "3.5.5", 
            "name": "python", 
            "pygments_lexer": "ipython3", 
            "file_extension": ".py", 
            "codemirror_mode": {
                "version": 3, 
                "name": "ipython"
            }
        }
    }, 
    "nbformat": 4
}